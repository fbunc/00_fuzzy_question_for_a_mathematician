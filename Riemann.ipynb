{
 "cells": [
  {
   "cell_type": "markdown",
   "metadata": {},
   "source": [
    "$$1^{-(1/2+ib)}-2^{-(1/2+ib)}-1=2^{-(1/2+ib)}-4^{-(1/2+ib)}-1$$\n",
    "$$2^{-(1/2+ib)}-4^{-(1/2+ib)}-1=3^{-(1/2+ib)}-6^{(1/2+ib)}-1$$\n",
    "$$3^{-(1/2+ib)}-6^{-2(1/2+ib)}-1=5^{-(1/2+ib)}-15^{(1/2+ib)}-1$$"
   ]
  },
  {
   "cell_type": "markdown",
   "metadata": {},
   "source": [
    "$$ \\zeta(s) = \\sum_{n=1}^{\\infty} \\frac{1}{n^s}$$\n",
    "$$n = p_1^{a_1} p_2^{a_2} \\cdots p_k^{a_k}$$\n",
    "$$  \\zeta(s) = \\sum_{n=1}^{\\infty} \\frac{1}{(p_1^{a_1} p_2^{a_2} \\cdots p_k^{a_k})^s} = \\sum_{a_1, a_2, \\ldots, a_k = 0}^{\\infty} \\frac{1}{p_1^{a_1 s} p_2^{a_2 s} \\cdots p_k^{a_k s}}$$\n",
    "* where $(p_1, p_2, \\ldots, p_k)$ are distinct primes and $(a_1, a_2, \\ldots, a_k)$ are non-negative integers\n",
    "\n",
    "$$\\zeta(s) = \\left( \\sum_{a_1 = 0}^{\\infty} \\frac{1}{p_1^{a_1 s}} \\right) \\left( \\sum_{a_2 = 0}^{\\infty} \\frac{1}{p_2^{a_2 s}} \\right) \\cdots \\left( \\sum_{a_k = 0}^{\\infty} \\frac{1}{p_k^{a_k s}} \\right)$$\n",
    "\n",
    "* Each of these sums is a geometric series that can be summed up:\n",
    "   \n",
    "$$\\sum_{a_i = 0}^{\\infty} \\frac{1}{p_i^{a_i s}} = \\frac{1}{1 - \\frac{1}{p_i^s}} \\quad \\text{for} \\quad \\Re(s) > 1$$\n",
    "\n",
    "$$\\zeta(s) = \\prod_{i=1}^{\\infty} \\left( \\frac{1}{1 - \\frac{1}{p_i^s}} \\right)$$"
   ]
  },
  {
   "cell_type": "markdown",
   "metadata": {},
   "source": [
    "$$\n",
    "\\zeta(s) = 2^s \\pi^{-1 + s} \\Gamma(1 - s) \\sin\\left(\\frac{\\pi s}{2}\\right) \\zeta(1 - s)\n",
    "$$\n"
   ]
  },
  {
   "cell_type": "markdown",
   "metadata": {},
   "source": [
    "\n",
    "\n",
    "$$ S = \\sum_{n=k}^{k+N-1} ar^n $$\n",
    "Para calcular la suma de una serie geométrica con \\( N \\) términos, comenzando desde \\( n = k \\), la fórmula general es:\n",
    "\n",
    "$$ S = a \\frac{r^k (r^N - 1)}{r - 1} $$\n"
   ]
  },
  {
   "cell_type": "code",
   "execution_count": 12,
   "metadata": {},
   "outputs": [
    {
     "ename": "NameError",
     "evalue": "name 'fig' is not defined",
     "output_type": "error",
     "traceback": [
      "\u001b[0;31m---------------------------------------------------------------------------\u001b[0m",
      "\u001b[0;31mNameError\u001b[0m                                 Traceback (most recent call last)",
      "Cell \u001b[0;32mIn[12], line 22\u001b[0m\n\u001b[1;32m     19\u001b[0m zeta_values \u001b[38;5;241m=\u001b[39m zeta_reflection(s_values)\n\u001b[1;32m     21\u001b[0m \u001b[38;5;66;03m# Plot the function\u001b[39;00m\n\u001b[0;32m---> 22\u001b[0m ax \u001b[38;5;241m=\u001b[39m \u001b[43mfig\u001b[49m\u001b[38;5;241m.\u001b[39madd_subplot(\u001b[38;5;241m111\u001b[39m, projection\u001b[38;5;241m=\u001b[39m\u001b[38;5;124m'\u001b[39m\u001b[38;5;124m3d\u001b[39m\u001b[38;5;124m'\u001b[39m)\n\u001b[1;32m     23\u001b[0m ax\u001b[38;5;241m.\u001b[39mfigure(figsize\u001b[38;5;241m=\u001b[39m(\u001b[38;5;241m10\u001b[39m, \u001b[38;5;241m6\u001b[39m))\n\u001b[1;32m     24\u001b[0m ax\u001b[38;5;241m.\u001b[39mscatter(zeta_values\u001b[38;5;241m.\u001b[39mreal,zeta_values\u001b[38;5;241m.\u001b[39mimag,np\u001b[38;5;241m.\u001b[39mabs(s_values))\n",
      "\u001b[0;31mNameError\u001b[0m: name 'fig' is not defined"
     ]
    }
   ],
   "source": [
    "import numpy as np\n",
    "import matplotlib.pyplot as plt\n",
    "from scipy.special import gamma\n",
    "from scipy.special import zeta\n",
    "\n",
    "# Define the function\n",
    "def zeta_reflection(s):\n",
    "    term1 = 2**s\n",
    "    term2 = np.pi**(-1 + s)\n",
    "    term3 = gamma(1 - s)\n",
    "    term4 = np.sin(np.pi * s / 2)\n",
    "    #term5 = zeta(1 - s)\n",
    "    return term1 * term2 * term3 * term4 #* term5\n",
    "t=np.linspace(0, 5, 390)\n",
    "# Generate values for s\n",
    "s_values = np.cos(t)+1j*np.sin(t)\n",
    "\n",
    "# Compute the function values\n",
    "zeta_values = zeta_reflection(s_values)\n",
    "\n",
    "# Plot the function\n",
    "ax = fig.add_subplot(111, projection='3d')\n",
    "ax.figure(figsize=(10, 6))\n",
    "ax.scatter(zeta_values.real,zeta_values.imag,np.abs(s_values))"
   ]
  }
 ],
 "metadata": {
  "kernelspec": {
   "display_name": "Python 3",
   "language": "python",
   "name": "python3"
  },
  "language_info": {
   "codemirror_mode": {
    "name": "ipython",
    "version": 3
   },
   "file_extension": ".py",
   "mimetype": "text/x-python",
   "name": "python",
   "nbconvert_exporter": "python",
   "pygments_lexer": "ipython3",
   "version": "3.10.12"
  }
 },
 "nbformat": 4,
 "nbformat_minor": 2
}
